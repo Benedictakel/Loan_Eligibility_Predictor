{
  "nbformat": 4,
  "nbformat_minor": 0,
  "metadata": {
    "colab": {
      "provenance": [],
      "authorship_tag": "ABX9TyMy4r+P87SLDUM6jXjGWw0x",
      "include_colab_link": true
    },
    "kernelspec": {
      "name": "python3",
      "display_name": "Python 3"
    },
    "language_info": {
      "name": "python"
    }
  },
  "cells": [
    {
      "cell_type": "markdown",
      "metadata": {
        "id": "view-in-github",
        "colab_type": "text"
      },
      "source": [
        "<a href=\"https://colab.research.google.com/github/Benedictakel/Loan_Eligibility_Predictor/blob/main/Loan_Eligibility_Predictor.ipynb\" target=\"_parent\"><img src=\"https://colab.research.google.com/assets/colab-badge.svg\" alt=\"Open In Colab\"/></a>"
      ]
    },
    {
      "cell_type": "code",
      "execution_count": null,
      "metadata": {
        "id": "wkEBvMwm9vSc"
      },
      "outputs": [],
      "source": [
        "import pandas as pd\n",
        "import numpy as np\n",
        "import seaborn as sns\n",
        "import matplotlib.pyplot as plt\n",
        "\n",
        "from sklearn.model_selection import train_test_split\n",
        "from sklearn.preprocessing import LabelEncoder\n",
        "from sklearn.ensemble import RandomForestClassifier\n",
        "from sklearn.metrics import accuracy_score, confusion_matrix, classification_report\n"
      ]
    },
    {
      "cell_type": "code",
      "source": [
        "url = \"https://raw.githubusercontent.com/dphi-official/Datasets/master/Loan_Data/loan_train.csv\"\n",
        "df = pd.read_csv(url)\n",
        "\n",
        "df.head()\n"
      ],
      "metadata": {
        "id": "1JRXGU69-dq8"
      },
      "execution_count": null,
      "outputs": []
    },
    {
      "cell_type": "code",
      "source": [
        "# Fill missing values\n",
        "df['Gender'].fillna(df['Gender'].mode()[0], inplace=True)\n",
        "df['Married'].fillna(df['Married'].mode()[0], inplace=True)\n",
        "df['Dependents'].fillna(df['Dependents'].mode()[0], inplace=True)\n",
        "df['Self_Employed'].fillna(df['Self_Employed'].mode()[0], inplace=True)\n",
        "df['Credit_History'].fillna(df['Credit_History'].mode()[0], inplace=True)\n",
        "df['Loan_Amount_Term'].fillna(df['Loan_Amount_Term'].mode()[0], inplace=True)\n",
        "df['LoanAmount'].fillna(df['LoanAmount'].median(), inplace=True)\n",
        "\n",
        "# Drop Loan_ID\n",
        "df.drop('Loan_ID', axis=1, inplace=True)\n"
      ],
      "metadata": {
        "id": "DKp9QDJm-i26"
      },
      "execution_count": null,
      "outputs": []
    },
    {
      "cell_type": "code",
      "source": [
        "cat_cols = ['Gender', 'Married', 'Education', 'Self_Employed', 'Property_Area', 'Dependents']\n",
        "\n",
        "le = LabelEncoder()\n",
        "for col in cat_cols:\n",
        "    df[col] = le.fit_transform(df[col])\n",
        "\n",
        "# Encode target variable\n",
        "df['Loan_Status'] = df['Loan_Status'].map({'Y': 1, 'N': 0})\n"
      ],
      "metadata": {
        "id": "Rz5ustnE-qDO"
      },
      "execution_count": null,
      "outputs": []
    },
    {
      "cell_type": "code",
      "source": [
        "X = df.drop('Loan_Status', axis=1)\n",
        "y = df['Loan_Status']\n",
        "\n",
        "X_train, X_test, y_train, y_test = train_test_split(X, y, test_size=0.2, random_state=42)\n"
      ],
      "metadata": {
        "id": "CU7FbZjV-v4p"
      },
      "execution_count": null,
      "outputs": []
    },
    {
      "cell_type": "code",
      "source": [
        "model = RandomForestClassifier(n_estimators=100, random_state=42)\n",
        "model.fit(X_train, y_train)\n"
      ],
      "metadata": {
        "id": "rP8dPfiC-0eR"
      },
      "execution_count": null,
      "outputs": []
    },
    {
      "cell_type": "code",
      "source": [
        "y_pred = model.predict(X_test)\n",
        "\n",
        "print(\"Accuracy:\", accuracy_score(y_test, y_pred))\n",
        "print(\"\\nClassification Report:\\n\", classification_report(y_test, y_pred))\n",
        "\n",
        "sns.heatmap(confusion_matrix(y_test, y_pred), annot=True, cmap=\"Greens\", fmt=\"d\")\n",
        "plt.xlabel(\"Predicted\")\n",
        "plt.ylabel(\"Actual\")\n",
        "plt.title(\"Confusion Matrix\")\n",
        "plt.show()\n"
      ],
      "metadata": {
        "id": "GMK36lqA-5Y_"
      },
      "execution_count": null,
      "outputs": []
    },
    {
      "cell_type": "code",
      "source": [
        "sample = X_test.iloc[0]\n",
        "prediction = model.predict([sample])\n",
        "\n",
        "print(\"Prediction:\", \"✅ Loan Approved\" if prediction[0] == 1 else \"❌ Loan Denied\")\n"
      ],
      "metadata": {
        "id": "1WZbFj_k--3a"
      },
      "execution_count": null,
      "outputs": []
    }
  ]
}